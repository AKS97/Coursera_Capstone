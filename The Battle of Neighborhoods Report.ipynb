{
 "cells": [
  {
   "cell_type": "markdown",
   "metadata": {},
   "source": [
    "# The Battle of Neighborhoods\n",
    "## *Capstone Project*"
   ]
  },
  {
   "cell_type": "markdown",
   "metadata": {},
   "source": [
    "### Introduction/Business Problem"
   ]
  },
  {
   "cell_type": "markdown",
   "metadata": {},
   "source": [
    "Because Bangalore is known as silicon valley of India, So many people from different parts of country moves to Bangalore but India is very  big and Diverse every part of a country is different from each other be it language, culture, food or anything else. A large number of people who move to Bangalore are from New Delhi and nearby area (NCR, UP, Haryana, Punjab, Rajasthan). They know New Delhi very well but Bangalore is totally different. So we will try to cluster New Delhi and Bangalore Based on similarity. That is we will cluster New Delhi on the basis of Neighbourhood and cluster Bangalore on the basis of Neighbourhood and will tell which places of New Delhi is similar to which places of Bangalore. This will help not only the new people moving to Bangalore but also those who are already living in Bangalore but are looking for change.So anyone who wants to shift to Bangalore from North India might be intrested in this project"
   ]
  },
  {
   "cell_type": "markdown",
   "metadata": {},
   "source": [
    "## Data"
   ]
  },
  {
   "cell_type": "markdown",
   "metadata": {},
   "source": [
    "We Scrapped Wikipedia to get Neighbourhood names of New Delhi and Bangalore. we get the list of district of New Delhi and their sub district and one more page for the Neighbourhood of New Delhi. speaking of Bangalore we got a Wikipedia page about Bangalore neighborhood which is just the name of areas of Bangalore. Moreover we will use foresquare api to get the information about various amenities or facilities available in these places based on which we will cluster theses cities. We will clustered New Delhi then predict on Bangalore to get the simillarity between these two cities."
   ]
  },
  {
   "cell_type": "markdown",
   "metadata": {},
   "source": [
    "Following is how our data looks like"
   ]
  },
  {
   "cell_type": "code",
   "execution_count": 4,
   "metadata": {},
   "outputs": [
    {
     "data": {
      "text/html": [
       "<div>\n",
       "<style scoped>\n",
       "    .dataframe tbody tr th:only-of-type {\n",
       "        vertical-align: middle;\n",
       "    }\n",
       "\n",
       "    .dataframe tbody tr th {\n",
       "        vertical-align: top;\n",
       "    }\n",
       "\n",
       "    .dataframe thead th {\n",
       "        text-align: right;\n",
       "    }\n",
       "</style>\n",
       "<table border=\"1\" class=\"dataframe\">\n",
       "  <thead>\n",
       "    <tr style=\"text-align: right;\">\n",
       "      <th></th>\n",
       "      <th>Key</th>\n",
       "      <th>District</th>\n",
       "      <th>Neighbourhood</th>\n",
       "      <th>latitude</th>\n",
       "      <th>longitude</th>\n",
       "    </tr>\n",
       "  </thead>\n",
       "  <tbody>\n",
       "    <tr>\n",
       "      <th>0</th>\n",
       "      <td>0</td>\n",
       "      <td>New Delhi</td>\n",
       "      <td>Connaught Place</td>\n",
       "      <td>28.6315</td>\n",
       "      <td>77.2167</td>\n",
       "    </tr>\n",
       "    <tr>\n",
       "      <th>1</th>\n",
       "      <td>1</td>\n",
       "      <td>New Delhi</td>\n",
       "      <td>Chanakyapuri</td>\n",
       "      <td>28.5939</td>\n",
       "      <td>77.1887</td>\n",
       "    </tr>\n",
       "    <tr>\n",
       "      <th>2</th>\n",
       "      <td>2</td>\n",
       "      <td>New Delhi</td>\n",
       "      <td>Delhi Cantonment</td>\n",
       "      <td>28.5961</td>\n",
       "      <td>77.1587</td>\n",
       "    </tr>\n",
       "    <tr>\n",
       "      <th>3</th>\n",
       "      <td>3</td>\n",
       "      <td>New Delhi</td>\n",
       "      <td>Vasant Vihar</td>\n",
       "      <td>28.5603</td>\n",
       "      <td>77.1617</td>\n",
       "    </tr>\n",
       "    <tr>\n",
       "      <th>4</th>\n",
       "      <td>4</td>\n",
       "      <td>North Delhi</td>\n",
       "      <td>Narela</td>\n",
       "      <td>28.8540</td>\n",
       "      <td>77.0918</td>\n",
       "    </tr>\n",
       "  </tbody>\n",
       "</table>\n",
       "</div>"
      ],
      "text/plain": [
       "   Key     District     Neighbourhood  latitude  longitude\n",
       "0    0    New Delhi   Connaught Place   28.6315    77.2167\n",
       "1    1    New Delhi      Chanakyapuri   28.5939    77.1887\n",
       "2    2    New Delhi  Delhi Cantonment   28.5961    77.1587\n",
       "3    3    New Delhi      Vasant Vihar   28.5603    77.1617\n",
       "4    4  North Delhi            Narela   28.8540    77.0918"
      ]
     },
     "execution_count": 4,
     "metadata": {},
     "output_type": "execute_result"
    }
   ],
   "source": [
    "delhi.head()"
   ]
  },
  {
   "cell_type": "code",
   "execution_count": 8,
   "metadata": {},
   "outputs": [
    {
     "data": {
      "text/html": [
       "<div>\n",
       "<style scoped>\n",
       "    .dataframe tbody tr th:only-of-type {\n",
       "        vertical-align: middle;\n",
       "    }\n",
       "\n",
       "    .dataframe tbody tr th {\n",
       "        vertical-align: top;\n",
       "    }\n",
       "\n",
       "    .dataframe thead th {\n",
       "        text-align: right;\n",
       "    }\n",
       "</style>\n",
       "<table border=\"1\" class=\"dataframe\">\n",
       "  <thead>\n",
       "    <tr style=\"text-align: right;\">\n",
       "      <th></th>\n",
       "      <th>Key</th>\n",
       "      <th>District</th>\n",
       "      <th>Neighbourhood</th>\n",
       "      <th>latitude</th>\n",
       "      <th>longitude</th>\n",
       "    </tr>\n",
       "  </thead>\n",
       "  <tbody>\n",
       "    <tr>\n",
       "      <th>0</th>\n",
       "      <td>2</td>\n",
       "      <td>Central</td>\n",
       "      <td>Domlur</td>\n",
       "      <td>12.962467</td>\n",
       "      <td>77.638196</td>\n",
       "    </tr>\n",
       "    <tr>\n",
       "      <th>1</th>\n",
       "      <td>3</td>\n",
       "      <td>Central</td>\n",
       "      <td>Indiranagar</td>\n",
       "      <td>12.973291</td>\n",
       "      <td>77.640467</td>\n",
       "    </tr>\n",
       "    <tr>\n",
       "      <th>2</th>\n",
       "      <td>4</td>\n",
       "      <td>Central</td>\n",
       "      <td>Jeevanbheemanagar</td>\n",
       "      <td>12.962900</td>\n",
       "      <td>77.659500</td>\n",
       "    </tr>\n",
       "    <tr>\n",
       "      <th>3</th>\n",
       "      <td>5</td>\n",
       "      <td>Central</td>\n",
       "      <td>Malleswaram</td>\n",
       "      <td>13.016341</td>\n",
       "      <td>77.558664</td>\n",
       "    </tr>\n",
       "    <tr>\n",
       "      <th>4</th>\n",
       "      <td>7</td>\n",
       "      <td>Central</td>\n",
       "      <td>Rajajinagar</td>\n",
       "      <td>12.990100</td>\n",
       "      <td>77.552500</td>\n",
       "    </tr>\n",
       "  </tbody>\n",
       "</table>\n",
       "</div>"
      ],
      "text/plain": [
       "   Key District      Neighbourhood   latitude  longitude\n",
       "0    2  Central             Domlur  12.962467  77.638196\n",
       "1    3  Central        Indiranagar  12.973291  77.640467\n",
       "2    4  Central  Jeevanbheemanagar  12.962900  77.659500\n",
       "3    5  Central        Malleswaram  13.016341  77.558664\n",
       "4    7  Central        Rajajinagar  12.990100  77.552500"
      ]
     },
     "execution_count": 8,
     "metadata": {},
     "output_type": "execute_result"
    }
   ],
   "source": [
    "banglore.head()"
   ]
  },
  {
   "cell_type": "markdown",
   "metadata": {},
   "source": [
    "###### About Columns\n",
    "In both of the Dataframes Key is a column to uniquely identify a perticular tuple in a Dataframe, District column is only the area where the place is present for example Connaught Place is in New Delhi, and Indiranagar is in Central Bangalore. Neighbourhood is the place which we are consurned about and latitude and longitude are there coordinates respectively."
   ]
  },
  {
   "cell_type": "markdown",
   "metadata": {},
   "source": [
    "### Sources of DATA\n",
    "following are the links which we have used in order to get the data :\n",
    "\n",
    "https://en.wikipedia.org/wiki/Neighbourhoods_of_Delhi\n",
    "\n",
    "https://en.wikipedia.org/wiki/List_of_districts_of_Delhi\n",
    "\n",
    "https://en.wikipedia.org/wiki/List_of_neighbourhoods_in_Bangalore\n",
    "\n",
    "Foresquare API"
   ]
  },
  {
   "cell_type": "markdown",
   "metadata": {},
   "source": [
    "## Project Methodology "
   ]
  },
  {
   "cell_type": "markdown",
   "metadata": {},
   "source": [
    "### DATA Collection\n",
    "To reach to our goal we needed DATA and we utilized python’s web scrapping power in order to get the data from sources like Wikipedia. And then we collected the data from Foresquare API in order to get some venues in our data. We follow following steps in order to collect data :\n",
    "\n",
    "1.\tWe scrapped the Wikipedia web page with the help of Pandas read_html method\n",
    "2.\tWe stored the result in a variable which we utilized in order to extract table out from it.\n",
    "3.\tWe then processed the respective tables to make them in proper format and saved them with the help of csv file.\n",
    "4.\tWe repeated the same process multiple times to append the csv file with the needed Data.\n",
    "5.\tWe did this to get different regions of New Delhi and Bangalore \n",
    "6.\tOur Data is partially ready, But we are still left with coordinates of respective regions.\n",
    " "
   ]
  },
  {
   "cell_type": "markdown",
   "metadata": {},
   "source": [
    "The above process helped us to get the Data of the following form :"
   ]
  },
  {
   "cell_type": "code",
   "execution_count": 13,
   "metadata": {},
   "outputs": [
    {
     "data": {
      "text/html": [
       "<div>\n",
       "<style scoped>\n",
       "    .dataframe tbody tr th:only-of-type {\n",
       "        vertical-align: middle;\n",
       "    }\n",
       "\n",
       "    .dataframe tbody tr th {\n",
       "        vertical-align: top;\n",
       "    }\n",
       "\n",
       "    .dataframe thead th {\n",
       "        text-align: right;\n",
       "    }\n",
       "</style>\n",
       "<table border=\"1\" class=\"dataframe\">\n",
       "  <thead>\n",
       "    <tr style=\"text-align: right;\">\n",
       "      <th></th>\n",
       "      <th>Key</th>\n",
       "      <th>District</th>\n",
       "      <th>Neighbourhood</th>\n",
       "    </tr>\n",
       "  </thead>\n",
       "  <tbody>\n",
       "    <tr>\n",
       "      <th>0</th>\n",
       "      <td>0</td>\n",
       "      <td>New Delhi</td>\n",
       "      <td>Connaught Place</td>\n",
       "    </tr>\n",
       "    <tr>\n",
       "      <th>1</th>\n",
       "      <td>1</td>\n",
       "      <td>New Delhi</td>\n",
       "      <td>Chanakyapuri</td>\n",
       "    </tr>\n",
       "    <tr>\n",
       "      <th>2</th>\n",
       "      <td>2</td>\n",
       "      <td>New Delhi</td>\n",
       "      <td>Delhi Cantonment</td>\n",
       "    </tr>\n",
       "    <tr>\n",
       "      <th>3</th>\n",
       "      <td>3</td>\n",
       "      <td>New Delhi</td>\n",
       "      <td>Vasant Vihar</td>\n",
       "    </tr>\n",
       "    <tr>\n",
       "      <th>4</th>\n",
       "      <td>4</td>\n",
       "      <td>North Delhi</td>\n",
       "      <td>Narela</td>\n",
       "    </tr>\n",
       "  </tbody>\n",
       "</table>\n",
       "</div>"
      ],
      "text/plain": [
       "   Key     District     Neighbourhood\n",
       "0    0    New Delhi   Connaught Place\n",
       "1    1    New Delhi      Chanakyapuri\n",
       "2    2    New Delhi  Delhi Cantonment\n",
       "3    3    New Delhi      Vasant Vihar\n",
       "4    4  North Delhi            Narela"
      ]
     },
     "execution_count": 13,
     "metadata": {},
     "output_type": "execute_result"
    }
   ],
   "source": [
    "delhi_individual.head()"
   ]
  },
  {
   "cell_type": "code",
   "execution_count": 14,
   "metadata": {},
   "outputs": [
    {
     "data": {
      "text/html": [
       "<div>\n",
       "<style scoped>\n",
       "    .dataframe tbody tr th:only-of-type {\n",
       "        vertical-align: middle;\n",
       "    }\n",
       "\n",
       "    .dataframe tbody tr th {\n",
       "        vertical-align: top;\n",
       "    }\n",
       "\n",
       "    .dataframe thead th {\n",
       "        text-align: right;\n",
       "    }\n",
       "</style>\n",
       "<table border=\"1\" class=\"dataframe\">\n",
       "  <thead>\n",
       "    <tr style=\"text-align: right;\">\n",
       "      <th></th>\n",
       "      <th>Key</th>\n",
       "      <th>District</th>\n",
       "      <th>Neighbourhood</th>\n",
       "    </tr>\n",
       "  </thead>\n",
       "  <tbody>\n",
       "    <tr>\n",
       "      <th>0</th>\n",
       "      <td>2</td>\n",
       "      <td>Central</td>\n",
       "      <td>Domlur</td>\n",
       "    </tr>\n",
       "    <tr>\n",
       "      <th>1</th>\n",
       "      <td>3</td>\n",
       "      <td>Central</td>\n",
       "      <td>Indiranagar</td>\n",
       "    </tr>\n",
       "    <tr>\n",
       "      <th>2</th>\n",
       "      <td>4</td>\n",
       "      <td>Central</td>\n",
       "      <td>Jeevanbheemanagar</td>\n",
       "    </tr>\n",
       "    <tr>\n",
       "      <th>3</th>\n",
       "      <td>5</td>\n",
       "      <td>Central</td>\n",
       "      <td>Malleswaram</td>\n",
       "    </tr>\n",
       "    <tr>\n",
       "      <th>4</th>\n",
       "      <td>7</td>\n",
       "      <td>Central</td>\n",
       "      <td>Rajajinagar</td>\n",
       "    </tr>\n",
       "  </tbody>\n",
       "</table>\n",
       "</div>"
      ],
      "text/plain": [
       "   Key District      Neighbourhood\n",
       "0    2  Central             Domlur\n",
       "1    3  Central        Indiranagar\n",
       "2    4  Central  Jeevanbheemanagar\n",
       "3    5  Central        Malleswaram\n",
       "4    7  Central        Rajajinagar"
      ]
     },
     "execution_count": 14,
     "metadata": {},
     "output_type": "execute_result"
    }
   ],
   "source": [
    "banglore_individual.head()"
   ]
  },
  {
   "cell_type": "markdown",
   "metadata": {},
   "source": [
    "But we want the coordinates of every Neighbourhood in order to query Foresquare API for that we did following:"
   ]
  },
  {
   "cell_type": "markdown",
   "metadata": {},
   "source": [
    "7. We utilized geopy library in order to get the respective coordinates of our  Neighborhoods.\n",
    "8. We stored them in a csv file\n",
    "9. Due to geopy’s Terms and some other reasons we were unable to get all coordinates So we entered them manually\n",
    "10. We now have another Dataframe which consist of coordinates of Neighborhoods."
   ]
  },
  {
   "cell_type": "markdown",
   "metadata": {},
   "source": [
    "We Then merged the two Dataframes in order to get following Dataframes"
   ]
  },
  {
   "cell_type": "code",
   "execution_count": 15,
   "metadata": {},
   "outputs": [
    {
     "data": {
      "text/html": [
       "<div>\n",
       "<style scoped>\n",
       "    .dataframe tbody tr th:only-of-type {\n",
       "        vertical-align: middle;\n",
       "    }\n",
       "\n",
       "    .dataframe tbody tr th {\n",
       "        vertical-align: top;\n",
       "    }\n",
       "\n",
       "    .dataframe thead th {\n",
       "        text-align: right;\n",
       "    }\n",
       "</style>\n",
       "<table border=\"1\" class=\"dataframe\">\n",
       "  <thead>\n",
       "    <tr style=\"text-align: right;\">\n",
       "      <th></th>\n",
       "      <th>Key</th>\n",
       "      <th>District</th>\n",
       "      <th>Neighbourhood</th>\n",
       "      <th>latitude</th>\n",
       "      <th>longitude</th>\n",
       "    </tr>\n",
       "  </thead>\n",
       "  <tbody>\n",
       "    <tr>\n",
       "      <th>0</th>\n",
       "      <td>0</td>\n",
       "      <td>New Delhi</td>\n",
       "      <td>Connaught Place</td>\n",
       "      <td>28.6315</td>\n",
       "      <td>77.2167</td>\n",
       "    </tr>\n",
       "    <tr>\n",
       "      <th>1</th>\n",
       "      <td>1</td>\n",
       "      <td>New Delhi</td>\n",
       "      <td>Chanakyapuri</td>\n",
       "      <td>28.5939</td>\n",
       "      <td>77.1887</td>\n",
       "    </tr>\n",
       "    <tr>\n",
       "      <th>2</th>\n",
       "      <td>2</td>\n",
       "      <td>New Delhi</td>\n",
       "      <td>Delhi Cantonment</td>\n",
       "      <td>28.5961</td>\n",
       "      <td>77.1587</td>\n",
       "    </tr>\n",
       "    <tr>\n",
       "      <th>3</th>\n",
       "      <td>3</td>\n",
       "      <td>New Delhi</td>\n",
       "      <td>Vasant Vihar</td>\n",
       "      <td>28.5603</td>\n",
       "      <td>77.1617</td>\n",
       "    </tr>\n",
       "    <tr>\n",
       "      <th>4</th>\n",
       "      <td>4</td>\n",
       "      <td>North Delhi</td>\n",
       "      <td>Narela</td>\n",
       "      <td>28.8540</td>\n",
       "      <td>77.0918</td>\n",
       "    </tr>\n",
       "  </tbody>\n",
       "</table>\n",
       "</div>"
      ],
      "text/plain": [
       "   Key     District     Neighbourhood  latitude  longitude\n",
       "0    0    New Delhi   Connaught Place   28.6315    77.2167\n",
       "1    1    New Delhi      Chanakyapuri   28.5939    77.1887\n",
       "2    2    New Delhi  Delhi Cantonment   28.5961    77.1587\n",
       "3    3    New Delhi      Vasant Vihar   28.5603    77.1617\n",
       "4    4  North Delhi            Narela   28.8540    77.0918"
      ]
     },
     "execution_count": 15,
     "metadata": {},
     "output_type": "execute_result"
    }
   ],
   "source": [
    "delhi.head()"
   ]
  },
  {
   "cell_type": "code",
   "execution_count": 16,
   "metadata": {},
   "outputs": [
    {
     "data": {
      "text/html": [
       "<div>\n",
       "<style scoped>\n",
       "    .dataframe tbody tr th:only-of-type {\n",
       "        vertical-align: middle;\n",
       "    }\n",
       "\n",
       "    .dataframe tbody tr th {\n",
       "        vertical-align: top;\n",
       "    }\n",
       "\n",
       "    .dataframe thead th {\n",
       "        text-align: right;\n",
       "    }\n",
       "</style>\n",
       "<table border=\"1\" class=\"dataframe\">\n",
       "  <thead>\n",
       "    <tr style=\"text-align: right;\">\n",
       "      <th></th>\n",
       "      <th>Key</th>\n",
       "      <th>District</th>\n",
       "      <th>Neighbourhood</th>\n",
       "      <th>latitude</th>\n",
       "      <th>longitude</th>\n",
       "    </tr>\n",
       "  </thead>\n",
       "  <tbody>\n",
       "    <tr>\n",
       "      <th>0</th>\n",
       "      <td>2</td>\n",
       "      <td>Central</td>\n",
       "      <td>Domlur</td>\n",
       "      <td>12.962467</td>\n",
       "      <td>77.638196</td>\n",
       "    </tr>\n",
       "    <tr>\n",
       "      <th>1</th>\n",
       "      <td>3</td>\n",
       "      <td>Central</td>\n",
       "      <td>Indiranagar</td>\n",
       "      <td>12.973291</td>\n",
       "      <td>77.640467</td>\n",
       "    </tr>\n",
       "    <tr>\n",
       "      <th>2</th>\n",
       "      <td>4</td>\n",
       "      <td>Central</td>\n",
       "      <td>Jeevanbheemanagar</td>\n",
       "      <td>12.962900</td>\n",
       "      <td>77.659500</td>\n",
       "    </tr>\n",
       "    <tr>\n",
       "      <th>3</th>\n",
       "      <td>5</td>\n",
       "      <td>Central</td>\n",
       "      <td>Malleswaram</td>\n",
       "      <td>13.016341</td>\n",
       "      <td>77.558664</td>\n",
       "    </tr>\n",
       "    <tr>\n",
       "      <th>4</th>\n",
       "      <td>7</td>\n",
       "      <td>Central</td>\n",
       "      <td>Rajajinagar</td>\n",
       "      <td>12.990100</td>\n",
       "      <td>77.552500</td>\n",
       "    </tr>\n",
       "  </tbody>\n",
       "</table>\n",
       "</div>"
      ],
      "text/plain": [
       "   Key District      Neighbourhood   latitude  longitude\n",
       "0    2  Central             Domlur  12.962467  77.638196\n",
       "1    3  Central        Indiranagar  12.973291  77.640467\n",
       "2    4  Central  Jeevanbheemanagar  12.962900  77.659500\n",
       "3    5  Central        Malleswaram  13.016341  77.558664\n",
       "4    7  Central        Rajajinagar  12.990100  77.552500"
      ]
     },
     "execution_count": 16,
     "metadata": {},
     "output_type": "execute_result"
    }
   ],
   "source": [
    "banglore.head()"
   ]
  },
  {
   "cell_type": "markdown",
   "metadata": {},
   "source": [
    "Now We are ready to get the nearby venues of these Neighborhoods from Foresquare API we did it in following steps :\n",
    "\n",
    "1.\tImport the required library to send request and then parse the JSON\n",
    "2.\tPrepare the url with client id and secret key\n",
    "3.\tForm the request and send it to Foresquare to get the JSON response back\n",
    "4.\tParse the json and store the information in a Dataframe\n"
   ]
  },
  {
   "cell_type": "markdown",
   "metadata": {},
   "source": [
    "So finally we are done with the Data Collection and are final Data looks like following :"
   ]
  },
  {
   "cell_type": "code",
   "execution_count": 18,
   "metadata": {},
   "outputs": [
    {
     "data": {
      "text/html": [
       "<div>\n",
       "<style scoped>\n",
       "    .dataframe tbody tr th:only-of-type {\n",
       "        vertical-align: middle;\n",
       "    }\n",
       "\n",
       "    .dataframe tbody tr th {\n",
       "        vertical-align: top;\n",
       "    }\n",
       "\n",
       "    .dataframe thead th {\n",
       "        text-align: right;\n",
       "    }\n",
       "</style>\n",
       "<table border=\"1\" class=\"dataframe\">\n",
       "  <thead>\n",
       "    <tr style=\"text-align: right;\">\n",
       "      <th></th>\n",
       "      <th>Neighborhood</th>\n",
       "      <th>Neighborhood Latitude</th>\n",
       "      <th>Neighborhood Longitude</th>\n",
       "      <th>Venue</th>\n",
       "      <th>Venue Latitude</th>\n",
       "      <th>Venue Longitude</th>\n",
       "      <th>Venue Category</th>\n",
       "    </tr>\n",
       "  </thead>\n",
       "  <tbody>\n",
       "    <tr>\n",
       "      <th>0</th>\n",
       "      <td>Connaught Place</td>\n",
       "      <td>28.6315</td>\n",
       "      <td>77.2167</td>\n",
       "      <td>HOTEL SARAVANA BHAVAN</td>\n",
       "      <td>28.632319</td>\n",
       "      <td>77.216445</td>\n",
       "      <td>South Indian Restaurant</td>\n",
       "    </tr>\n",
       "    <tr>\n",
       "      <th>1</th>\n",
       "      <td>Connaught Place</td>\n",
       "      <td>28.6315</td>\n",
       "      <td>77.2167</td>\n",
       "      <td>Starbucks Coffee</td>\n",
       "      <td>28.632011</td>\n",
       "      <td>77.217731</td>\n",
       "      <td>Coffee Shop</td>\n",
       "    </tr>\n",
       "    <tr>\n",
       "      <th>2</th>\n",
       "      <td>Connaught Place</td>\n",
       "      <td>28.6315</td>\n",
       "      <td>77.2167</td>\n",
       "      <td>Wenger's</td>\n",
       "      <td>28.633412</td>\n",
       "      <td>77.218292</td>\n",
       "      <td>Bakery</td>\n",
       "    </tr>\n",
       "    <tr>\n",
       "      <th>3</th>\n",
       "      <td>Connaught Place</td>\n",
       "      <td>28.6315</td>\n",
       "      <td>77.2167</td>\n",
       "      <td>Pind Balluchi</td>\n",
       "      <td>28.630318</td>\n",
       "      <td>77.217600</td>\n",
       "      <td>North Indian Restaurant</td>\n",
       "    </tr>\n",
       "    <tr>\n",
       "      <th>4</th>\n",
       "      <td>Connaught Place</td>\n",
       "      <td>28.6315</td>\n",
       "      <td>77.2167</td>\n",
       "      <td>Fabindia</td>\n",
       "      <td>28.632012</td>\n",
       "      <td>77.217729</td>\n",
       "      <td>Clothing Store</td>\n",
       "    </tr>\n",
       "  </tbody>\n",
       "</table>\n",
       "</div>"
      ],
      "text/plain": [
       "      Neighborhood  Neighborhood Latitude  Neighborhood Longitude  \\\n",
       "0  Connaught Place                28.6315                 77.2167   \n",
       "1  Connaught Place                28.6315                 77.2167   \n",
       "2  Connaught Place                28.6315                 77.2167   \n",
       "3  Connaught Place                28.6315                 77.2167   \n",
       "4  Connaught Place                28.6315                 77.2167   \n",
       "\n",
       "                   Venue  Venue Latitude  Venue Longitude  \\\n",
       "0  HOTEL SARAVANA BHAVAN       28.632319        77.216445   \n",
       "1       Starbucks Coffee       28.632011        77.217731   \n",
       "2               Wenger's       28.633412        77.218292   \n",
       "3          Pind Balluchi       28.630318        77.217600   \n",
       "4               Fabindia       28.632012        77.217729   \n",
       "\n",
       "            Venue Category  \n",
       "0  South Indian Restaurant  \n",
       "1              Coffee Shop  \n",
       "2                   Bakery  \n",
       "3  North Indian Restaurant  \n",
       "4           Clothing Store  "
      ]
     },
     "execution_count": 18,
     "metadata": {},
     "output_type": "execute_result"
    }
   ],
   "source": [
    "delhi_venues.head()"
   ]
  },
  {
   "cell_type": "markdown",
   "metadata": {},
   "source": [
    "### DATA Preprocessing\n",
    "\n",
    "Before we start clustering we need to make data in proper format that is we need to convert each of the categorical variable into numerical variable and  take the mean of frequency of occurrence of each category. So we achieve our this goal as follows :\n",
    "\n",
    "1.\tgroup rows by neighborhood and by take the mean of the frequency of occurrence of each category\n",
    "2.\tSort them in descending order\n",
    "3.\tCreate a Dataframe with top 10 venues for each Neighborhood\n",
    "4.\tPerform One Hot Encoding\n",
    "5.  We repeated the same thing with Bangalore data "
   ]
  },
  {
   "cell_type": "markdown",
   "metadata": {},
   "source": [
    "### Implementation\n",
    "\n",
    "Now we are ready to implement K-Means Clustering on our Data so initially we cluster New Delhi into 10 clusters"
   ]
  },
  {
   "cell_type": "markdown",
   "metadata": {},
   "source": [
    "### Refinement\n",
    "\n",
    "We need to find correct value of K for our model this is one of a disadvantage of using K Means but to find the optimum number of K we draw Elbow Plot which shows correct value of K"
   ]
  },
  {
   "cell_type": "markdown",
   "metadata": {},
   "source": [
    "From Elbow Plot we found out that right number of clusters **K = 25**"
   ]
  },
  {
   "cell_type": "markdown",
   "metadata": {},
   "source": [
    "<img src=\"C:\\Elbow_Plot.png\"  title=\"Elbow Plot\" />"
   ]
  },
  {
   "cell_type": "markdown",
   "metadata": {},
   "source": [
    "Therefore we build our model again with *K = 25* "
   ]
  },
  {
   "cell_type": "markdown",
   "metadata": {},
   "source": [
    "After sucessful implementation of our algorithm we Predict the clusters for Bangalore "
   ]
  },
  {
   "cell_type": "markdown",
   "metadata": {},
   "source": [
    "## Results"
   ]
  },
  {
   "cell_type": "markdown",
   "metadata": {},
   "source": [
    "We used K Means clustering in order to find the simillarities between New Delhi and Bangalore. One of the reasons that we used K Means was that it allows us to predict on some unknown datasets like a supervised learning. As this is an Unsupervised Learning their are not many ways to evaluate the putcome of our model but we Evaluated it with the help of silhouette coefficient which computes the compactness of a cluster, where higher is better, with a perfect score of 1. Which is not necessarily true for our case.But we clustered with different algorithms like DBSCAN, Agglomarative and K Means where the result of Aglomarative and K Means where almost same. Apart from that after we succesfully clustered both the cities I manually checked for the clusters which were quite simillar. So overall our model is working and we can tell anyone which part of New Delhi is simillar to Bangalore.\n",
    "\n",
    "For Example if someone lives in *Geeta Colony, New Delhi* then that person can easily live in *Hoodi, Bangalore* as they are part of one Cluster and thus have lots of Dessert Shop, Donot Shop and Dinner places in common. "
   ]
  },
  {
   "cell_type": "markdown",
   "metadata": {},
   "source": [
    "## Conclusion "
   ]
  },
  {
   "cell_type": "markdown",
   "metadata": {},
   "source": [
    "We collected our data from multiple Wikipedia pages with the help of pythons web scrapping capabilities. Then we utilize geopy to some extent to get the coordinates of some of the locations of New Delhi and Bangalore and rest I filled manually. After that we merged both together to query the Foresquare API then we parsed the result and stored it into a Dataframe. Later we used that to sort the most common venues everywhere. One more step to go before we can start building our model that is Data Preprocessing wehere we converted the categorical variables into numerical with the help of One Hot Encoding and also calculated the mean frequency of occurance of each category of the venues of the Neighborhoods. Finally we built our model with the help of K Means Clustering algorithm where we clustered New Delhi and then used our model to Predict the values or cluster for Bangalore."
   ]
  }
 ],
 "metadata": {
  "kernelspec": {
   "display_name": "Python 3",
   "language": "python",
   "name": "python3"
  },
  "language_info": {
   "codemirror_mode": {
    "name": "ipython",
    "version": 3
   },
   "file_extension": ".py",
   "mimetype": "text/x-python",
   "name": "python",
   "nbconvert_exporter": "python",
   "pygments_lexer": "ipython3",
   "version": "3.7.0"
  }
 },
 "nbformat": 4,
 "nbformat_minor": 2
}
